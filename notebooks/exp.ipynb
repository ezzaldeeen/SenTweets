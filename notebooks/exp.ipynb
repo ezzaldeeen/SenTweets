{
 "cells": [
  {
   "cell_type": "code",
   "execution_count": 30,
   "metadata": {
    "collapsed": true,
    "ExecuteTime": {
     "end_time": "2023-05-18T16:45:52.092453Z",
     "start_time": "2023-05-18T16:45:52.085733Z"
    }
   },
   "outputs": [],
   "source": [
    "from transformers import (\n",
    "    pipeline,\n",
    "    TFAutoModelForSequenceClassification,\n",
    "    AutoTokenizer,\n",
    "    AutoModelForSequenceClassification,\n",
    ")"
   ]
  },
  {
   "cell_type": "code",
   "execution_count": 31,
   "outputs": [
    {
     "name": "stderr",
     "output_type": "stream",
     "text": [
      "All model checkpoint layers were used when initializing TFRobertaForSequenceClassification.\n",
      "\n",
      "All the layers of TFRobertaForSequenceClassification were initialized from the model checkpoint at cardiffnlp/twitter-roberta-base-sentiment.\n",
      "If your task is similar to the task the model of the checkpoint was trained on, you can already use TFRobertaForSequenceClassification for predictions without further training.\n"
     ]
    }
   ],
   "source": [
    "model_uri = \"cardiffnlp/twitter-roberta-base-sentiment\"\n",
    "\n",
    "# getting pre-trained model\n",
    "model = TFAutoModelForSequenceClassification.from_pretrained(model_uri)\n",
    "tokenizer = AutoTokenizer.from_pretrained(model_uri)"
   ],
   "metadata": {
    "collapsed": false,
    "ExecuteTime": {
     "end_time": "2023-05-18T16:45:55.481678Z",
     "start_time": "2023-05-18T16:45:52.097318Z"
    }
   }
  },
  {
   "cell_type": "code",
   "execution_count": 32,
   "outputs": [
    {
     "data": {
      "text/plain": "{'input_ids': [[0, 100, 348, 57, 2445, 42, 13, 127, 1086, 301, 2], [0, 100, 4157, 42, 232, 2]], 'attention_mask': [[1, 1, 1, 1, 1, 1, 1, 1, 1, 1, 1], [1, 1, 1, 1, 1, 1]]}"
     },
     "execution_count": 32,
     "metadata": {},
     "output_type": "execute_result"
    }
   ],
   "source": [
    "tokenizer([\n",
    "    \"I've been waiting this for my whole life\",\n",
    "    \"I hate this world\"\n",
    "])"
   ],
   "metadata": {
    "collapsed": false,
    "ExecuteTime": {
     "end_time": "2023-05-18T16:45:55.506763Z",
     "start_time": "2023-05-18T16:45:55.483594Z"
    }
   }
  },
  {
   "cell_type": "code",
   "execution_count": 33,
   "outputs": [],
   "source": [
    "# setting up the sentiment analyzer pipline\n",
    "analyzer = pipeline(task=\"sentiment-analysis\",\n",
    "                    model=model,\n",
    "                    tokenizer=tokenizer)"
   ],
   "metadata": {
    "collapsed": false,
    "ExecuteTime": {
     "end_time": "2023-05-18T16:45:55.522395Z",
     "start_time": "2023-05-18T16:45:55.487816Z"
    }
   }
  },
  {
   "cell_type": "code",
   "execution_count": 33,
   "outputs": [],
   "source": [],
   "metadata": {
    "collapsed": false,
    "ExecuteTime": {
     "end_time": "2023-05-18T16:45:55.526464Z",
     "start_time": "2023-05-18T16:45:55.524857Z"
    }
   }
  }
 ],
 "metadata": {
  "kernelspec": {
   "display_name": "Python 3",
   "language": "python",
   "name": "python3"
  },
  "language_info": {
   "codemirror_mode": {
    "name": "ipython",
    "version": 2
   },
   "file_extension": ".py",
   "mimetype": "text/x-python",
   "name": "python",
   "nbconvert_exporter": "python",
   "pygments_lexer": "ipython2",
   "version": "2.7.6"
  }
 },
 "nbformat": 4,
 "nbformat_minor": 0
}
