{
 "cells": [
  {
   "cell_type": "code",
   "execution_count": 15,
   "metadata": {
    "ExecuteTime": {
     "end_time": "2023-05-22T11:38:18.500361Z",
     "start_time": "2023-05-22T11:38:18.497241Z"
    }
   },
   "outputs": [],
   "source": [
    "import json\n",
    "\n",
    "from transformers import (\n",
    "    pipeline,\n",
    "    TFAutoModelForSequenceClassification,\n",
    "    AutoTokenizer\n",
    ")"
   ]
  },
  {
   "cell_type": "code",
   "execution_count": 19,
   "metadata": {
    "ExecuteTime": {
     "end_time": "2023-05-22T11:38:38.080002Z",
     "start_time": "2023-05-22T11:38:35.547990Z"
    }
   },
   "outputs": [
    {
     "name": "stderr",
     "output_type": "stream",
     "text": [
      "All model checkpoint layers were used when initializing TFRobertaForSequenceClassification.\n",
      "\n",
      "All the layers of TFRobertaForSequenceClassification were initialized from the model checkpoint at cardiffnlp/twitter-roberta-base-sentiment.\n",
      "If your task is similar to the task the model of the checkpoint was trained on, you can already use TFRobertaForSequenceClassification for predictions without further training.\n"
     ]
    }
   ],
   "source": [
    "checkpoint = \"cardiffnlp/twitter-roberta-base-sentiment\"\n",
    "\n",
    "# getting pre-trained model\n",
    "model = TFAutoModelForSequenceClassification.from_pretrained(checkpoint)\n",
    "tokenizer = AutoTokenizer.from_pretrained(checkpoint)"
   ]
  },
  {
   "cell_type": "code",
   "execution_count": 20,
   "metadata": {
    "ExecuteTime": {
     "end_time": "2023-05-22T11:38:38.091322Z",
     "start_time": "2023-05-22T11:38:38.080539Z"
    }
   },
   "outputs": [
    {
     "data": {
      "text/plain": "{'input_ids': [[0, 100, 348, 57, 2445, 42, 13, 127, 1086, 301, 2], [0, 100, 4157, 42, 2]], 'attention_mask': [[1, 1, 1, 1, 1, 1, 1, 1, 1, 1, 1], [1, 1, 1, 1, 1]]}"
     },
     "execution_count": 20,
     "metadata": {},
     "output_type": "execute_result"
    }
   ],
   "source": [
    "tokenizer([\n",
    "    \"I've been waiting this for my whole life\",\n",
    "    \"I hate this\"\n",
    "])"
   ]
  },
  {
   "cell_type": "code",
   "execution_count": 21,
   "metadata": {
    "ExecuteTime": {
     "end_time": "2023-05-22T11:38:38.091571Z",
     "start_time": "2023-05-22T11:38:38.084675Z"
    }
   },
   "outputs": [],
   "source": [
    "# predefined labels\n",
    "LABELS = {\n",
    "    \"LABEL_0\": \"NEGATIVE \",\n",
    "    \"LABEL_1\": \"NEUTRAL\",\n",
    "    \"LABEL_2\": \"POSITIVE\"\n",
    "}"
   ]
  },
  {
   "cell_type": "code",
   "execution_count": 22,
   "metadata": {
    "ExecuteTime": {
     "end_time": "2023-05-22T11:38:39.152410Z",
     "start_time": "2023-05-22T11:38:39.128992Z"
    }
   },
   "outputs": [],
   "source": [
    "# setting up the sentiment analyzer pipline\n",
    "analyzer = pipeline(task=\"sentiment-analysis\",\n",
    "                    model=model,\n",
    "                    tokenizer=tokenizer)"
   ]
  },
  {
   "cell_type": "code",
   "execution_count": 23,
   "metadata": {
    "ExecuteTime": {
     "end_time": "2023-05-22T11:38:39.778937Z",
     "start_time": "2023-05-22T11:38:39.531768Z"
    }
   },
   "outputs": [
    {
     "data": {
      "text/plain": "[{'label': 'LABEL_1', 'score': 0.5709302425384521},\n {'label': 'LABEL_0', 'score': 0.9736179113388062}]"
     },
     "execution_count": 23,
     "metadata": {},
     "output_type": "execute_result"
    }
   ],
   "source": [
    "analyzer([\n",
    "    \"I've been waiting this for my whole life\",\n",
    "    \"I hate this shit\"\n",
    "])"
   ]
  },
  {
   "cell_type": "code",
   "execution_count": 24,
   "metadata": {
    "ExecuteTime": {
     "end_time": "2023-05-22T11:38:40.163686Z",
     "start_time": "2023-05-22T11:38:40.155285Z"
    }
   },
   "outputs": [],
   "source": [
    "# preprocess the tweets\n",
    "def clean(text: str) -> str:\n",
    "    cleaned = []\n",
    "    for t in text.split(\" \"):\n",
    "        t = '@user' if t.startswith('@') and len(t) > 1 else t\n",
    "        t = '' if t.startswith('http') else t\n",
    "        cleaned.append(t)\n",
    "    return \" \".join(cleaned)\n",
    "\n",
    "# load, and parse tweets\n",
    "def load(path: str):\n",
    "    with open(path, mode=\"r\") as file:\n",
    "        for line in file.readlines():\n",
    "            try:\n",
    "                tweet = json.loads(line)\n",
    "                text = tweet['text']\n",
    "                yield clean(text)\n",
    "            except Exception:\n",
    "                    continue"
   ]
  },
  {
   "cell_type": "code",
   "execution_count": 28,
   "metadata": {
    "ExecuteTime": {
     "end_time": "2023-05-22T11:39:48.312233Z",
     "start_time": "2023-05-22T11:39:46.278360Z"
    }
   },
   "outputs": [
    {
     "name": "stdout",
     "output_type": "stream",
     "text": [
      "TEXT: akun masih flop ternyata, agaknya shaddy memang ditakdirkan untuk jbjb aja..\n",
      "LABEL: NEUTRAL\n",
      "LABEL: 0.6582995653152466\n",
      "----------\n",
      "TEXT: RT @user Psra cerrar este día de #Culos🍑\n",
      "Les dejamos un breve videito rico🔥😈😋 cogiendo delicioso🔥\n",
      "Esperando sea de su agrado, quién…\n",
      "LABEL: NEUTRAL\n",
      "LABEL: 0.5533027052879333\n",
      "----------\n",
      "TEXT: RT @user ‼️‼️💚SALE ENDING SOON💚‼️‼️\n",
      "Watch our latest hottest collab ⬇️⬇️\n",
      "https://t.co/kGpSdd3HUR \n",
      "(New videos, different angles,…\n",
      "LABEL: NEUTRAL\n",
      "LABEL: 0.5087047219276428\n",
      "----------\n",
      "TEXT: 念のため今日休みにしておいてよかった…\n",
      "LABEL: NEUTRAL\n",
      "LABEL: 0.7614464163780212\n",
      "----------\n",
      "TEXT: @user けいちゃーん♡ありがとーー😭💕💕\n",
      "ほんとかっこよくてとろけたよ🫠🫠💕💕\n",
      "実物の破壊力にやられたよー😇\n",
      "ほんとイケメンだったよー❣️\n",
      "けいちゃんがハッピーになってくれての🥺💕\n",
      "うれしいよ❣️\n",
      "LABEL: NEUTRAL\n",
      "LABEL: 0.7424249053001404\n",
      "----------\n",
      "TEXT: RT @user \n",
      "LABEL: NEUTRAL\n",
      "LABEL: 0.692699670791626\n",
      "----------\n",
      "TEXT: @user NUH até desceu a bosta presa\n",
      "LABEL: NEUTRAL\n",
      "LABEL: 0.8003782629966736\n",
      "----------\n",
      "TEXT: RT @user Essa culpa eu não carrego, amados.\n",
      "LABEL: NEUTRAL\n",
      "LABEL: 0.8075511455535889\n",
      "----------\n",
      "TEXT: Now playing: WJIC Network ID by The WJIC Network!  Listen live here: \n",
      "LABEL: NEUTRAL\n",
      "LABEL: 0.8751696348190308\n",
      "----------\n",
      "TEXT: RT @user Good morning mfers ☀️ Hope everybody has a great Halloween!\n",
      "LABEL: POSITIVE\n",
      "LABEL: 0.9863752722740173\n",
      "----------\n"
     ]
    }
   ],
   "source": [
    "tweets_path = \"../data/20221101000000.json\"\n",
    "loader = load(tweets_path)\n",
    "# inference top 10\n",
    "for i, t in enumerate(loader):\n",
    "    if i >= 10:\n",
    "        break\n",
    "    analysis = analyzer(t)[0]\n",
    "    print(f\"TEXT: {t}\")\n",
    "    print(f\"LABEL: {LABELS[analysis['label']]}\")\n",
    "    print(f\"LABEL: {analysis['score']}\")\n",
    "    print(\"-\" * 10)"
   ]
  },
  {
   "cell_type": "code",
   "execution_count": 29,
   "metadata": {
    "ExecuteTime": {
     "end_time": "2023-05-22T11:39:50.575039Z",
     "start_time": "2023-05-22T11:39:49.937108Z"
    }
   },
   "outputs": [],
   "source": [
    "# saving model's config, and weights to the disk\n",
    "model_path = f\"../models/{checkpoint}\"\n",
    "analyzer.save_pretrained(model_path)"
   ]
  },
  {
   "cell_type": "code",
   "execution_count": null,
   "metadata": {},
   "outputs": [],
   "source": []
  }
 ],
 "metadata": {
  "kernelspec": {
   "display_name": "Python 3 (ipykernel)",
   "language": "python",
   "name": "python3"
  },
  "language_info": {
   "codemirror_mode": {
    "name": "ipython",
    "version": 3
   },
   "file_extension": ".py",
   "mimetype": "text/x-python",
   "name": "python",
   "nbconvert_exporter": "python",
   "pygments_lexer": "ipython3",
   "version": "3.10.11"
  }
 },
 "nbformat": 4,
 "nbformat_minor": 1
}
